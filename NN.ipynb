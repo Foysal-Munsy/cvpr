{
  "nbformat": 4,
  "nbformat_minor": 0,
  "metadata": {
    "colab": {
      "provenance": [],
      "include_colab_link": true
    },
    "kernelspec": {
      "name": "python3",
      "display_name": "Python 3"
    },
    "language_info": {
      "name": "python"
    }
  },
  "cells": [
    {
      "cell_type": "markdown",
      "metadata": {
        "id": "view-in-github",
        "colab_type": "text"
      },
      "source": [
        "<a href=\"https://colab.research.google.com/github/Foysal-Munsy/cvpr/blob/main/NN.ipynb\" target=\"_parent\"><img src=\"https://colab.research.google.com/assets/colab-badge.svg\" alt=\"Open In Colab\"/></a>"
      ]
    },
    {
      "cell_type": "code",
      "execution_count": 7,
      "metadata": {
        "id": "tGkLDbgAkhV9"
      },
      "outputs": [],
      "source": [
        "import numpy as np\n",
        "import matplotlib.pyplot as plt\n",
        "from sklearn.datasets import make_classification\n",
        "from sklearn.preprocessing import OneHotEncoder\n",
        "from sklearn.model_selection import train_test_split\n",
        "from sklearn.metrics import accuracy_score, precision_score, recall_score, f1_score"
      ]
    },
    {
      "cell_type": "code",
      "source": [
        "# Generate synthetic dataset\n",
        "X, y = make_classification(\n",
        "    n_samples=10000,\n",
        "    n_features=5,\n",
        "    n_informative=5,\n",
        "    n_redundant=0,\n",
        "    n_clusters_per_class=1,\n",
        "    n_classes=5,\n",
        "    random_state=42\n",
        ")\n",
        "\n",
        "encoder = OneHotEncoder(sparse_output=False)\n",
        "y_onehot = encoder.fit_transform(y.reshape(-1, 1))\n"
      ],
      "metadata": {
        "id": "Guq_hJ19kxFs"
      },
      "execution_count": 8,
      "outputs": []
    },
    {
      "cell_type": "code",
      "source": [
        "X_train, X_val, y_train, y_val = train_test_split(X, y_onehot, test_size=0.2)"
      ],
      "metadata": {
        "id": "_lWH_rbZk3lb"
      },
      "execution_count": 9,
      "outputs": []
    },
    {
      "cell_type": "code",
      "source": [
        "X.shape"
      ],
      "metadata": {
        "colab": {
          "base_uri": "https://localhost:8080/"
        },
        "id": "fisUNlDxk5Zu",
        "outputId": "225316e7-c5d2-4d7f-b99d-1df95e60abc1"
      },
      "execution_count": 10,
      "outputs": [
        {
          "output_type": "execute_result",
          "data": {
            "text/plain": [
              "(10000, 5)"
            ]
          },
          "metadata": {},
          "execution_count": 10
        }
      ]
    },
    {
      "cell_type": "code",
      "source": [
        "y_onehot.shape"
      ],
      "metadata": {
        "colab": {
          "base_uri": "https://localhost:8080/"
        },
        "id": "d372MR2ak9EE",
        "outputId": "7e704950-ad01-4f5a-997c-a490b11d7eb4"
      },
      "execution_count": 11,
      "outputs": [
        {
          "output_type": "execute_result",
          "data": {
            "text/plain": [
              "(10000, 5)"
            ]
          },
          "metadata": {},
          "execution_count": 11
        }
      ]
    },
    {
      "cell_type": "code",
      "source": [
        "class NeuralNetwork:\n",
        "    def __init__(self):\n",
        "        # here is change in numbers of hidden layer and weights as per the assigment requirement\n",
        "        inputLayerNeurons = 5\n",
        "        hiddenLayerNeurons1 = 10\n",
        "        hiddenLayerNeurons2 = 10\n",
        "        hiddenLayerNeurons3 = 10\n",
        "        outputLayerNeurons = 5\n",
        "\n",
        "        self.learningRate = 0.00001\n",
        "        self.W_HI = np.random.rand(inputLayerNeurons, hiddenLayerNeurons1)\n",
        "        self.W_HH1 = np.random.rand(hiddenLayerNeurons1, hiddenLayerNeurons2)\n",
        "        self.W_HH2 = np.random.rand(hiddenLayerNeurons2, hiddenLayerNeurons3)\n",
        "        self.W_HO = np.random.rand(hiddenLayerNeurons3, outputLayerNeurons)\n",
        "\n",
        "    # Activation functions\n",
        "    '''relu is more efficient than sigmoid thats why used it'''\n",
        "    def ReLU(self, x, der=False):\n",
        "        if der:\n",
        "            return np.where(x > 0, 1, 0)\n",
        "        else:\n",
        "            return np.maximum(0, x)\n",
        "\n",
        "    def softmax(self, x):\n",
        "        e_x = np.exp(x - np.max(x, axis=1, keepdims=True))\n",
        "        return e_x / e_x.sum(axis=1, keepdims=True)\n",
        "\n",
        "    def forward(self, X):\n",
        "        self.hidden_input1 = np.dot(X, self.W_HI)\n",
        "        self.hidden_output1 = self.ReLU(self.hidden_input1)\n",
        "\n",
        "        self.hidden_input2 = np.dot(self.hidden_output1, self.W_HH1)\n",
        "        self.hidden_output2 = self.ReLU(self.hidden_input2)\n",
        "\n",
        "        self.hidden_input3 = np.dot(self.hidden_output2, self.W_HH2)\n",
        "        self.hidden_output3 = self.ReLU(self.hidden_input3)\n",
        "\n",
        "        self.output_input = np.dot(self.hidden_output3, self.W_HO)\n",
        "        ''' As The SoftMax activation function normalizes\n",
        "        the input values into a probability distribution,\n",
        "        ensuring that the sum of all output values is 1.\n",
        "        Thats why used in the output layer'''\n",
        "        pred = self.softmax(self.output_input)\n",
        "        return pred\n",
        "\n",
        "\n",
        "    def backward(self, X, Y, pred):\n",
        "        output_error = Y - pred\n",
        "        '''The gradient of the loss with respect to the network output,\n",
        "        when using softmax and cross-entropy, simplifies to the difference\n",
        "        between the predicted softmax output and the true labels. '''\n",
        "        output_delta = output_error\n",
        "\n",
        "        hidden_error3 = output_delta.dot(self.W_HO.T)\n",
        "        hidden_delta3 = hidden_error3 * self.ReLU(self.hidden_output3, der=True)\n",
        "\n",
        "        hidden_error2 = hidden_delta3.dot(self.W_HH2.T)\n",
        "        hidden_delta2 = hidden_error2 * self.ReLU(self.hidden_output2, der=True)\n",
        "\n",
        "        hidden_error1 = hidden_delta2.dot(self.W_HH1.T)\n",
        "        hidden_delta1 = hidden_error1 * self.ReLU(self.hidden_output1, der=True)\n",
        "\n",
        "        self.W_HI += X.T.dot(hidden_delta1) * self.learningRate\n",
        "        self.W_HH1 += self.hidden_output1.T.dot(hidden_delta2) * self.learningRate\n",
        "        self.W_HH2 += self.hidden_output2.T.dot(hidden_delta3) * self.learningRate\n",
        "        self.W_HO += self.hidden_output3.T.dot(output_delta) * self.learningRate\n",
        "\n",
        "    def train(self, X, Y):\n",
        "        output = self.forward(X)\n",
        "        self.backward(X, Y, output)\n",
        "        return output\n"
      ],
      "metadata": {
        "id": "jRV5dAnglCxN"
      },
      "execution_count": 12,
      "outputs": []
    },
    {
      "cell_type": "code",
      "source": [
        "NN = NeuralNetwork()\n",
        "# Lists to store training and validation errors\n",
        "train_errors = []\n",
        "val_errors = []\n",
        "\n",
        "# Initialize variables to store final outputs\n",
        "final_train_outputs = None\n",
        "final_val_outputs = None\n",
        "\n",
        "for i in range(10000):\n",
        "    # Train the network on the training data\n",
        "    NN.train(X_train, y_train)\n",
        "    output_train = NN.forward(X_train)\n",
        "\n",
        "    # Calculate and store training error\n",
        "    train_error = np.mean(np.square(y_train - output_train))\n",
        "    train_errors.append(train_error)\n",
        "\n",
        "    # Forward pass on the validation set\n",
        "    output_val = NN.forward(X_val)\n",
        "\n",
        "    # Calculate and store validation error\n",
        "    val_error = np.mean(np.square(y_val - output_val))\n",
        "    val_errors.append(val_error)\n",
        "\n",
        "    # Store final outputs\n",
        "    final_train_outputs = output_train\n",
        "    final_val_outputs = output_val\n"
      ],
      "metadata": {
        "id": "Vcdvrkz4lFPc"
      },
      "execution_count": 13,
      "outputs": []
    },
    {
      "cell_type": "code",
      "source": [
        "# Plotting training and validation error\n",
        "plt.figure(figsize=(17,7))\n",
        "plt.plot(train_errors, label='Training Error')\n",
        "plt.plot(val_errors, label='Validation Error')\n",
        "plt.xlabel('Epoch')\n",
        "plt.ylabel('Mean Squared Error')\n",
        "plt.title('Training and Validation Error')\n",
        "plt.legend()\n",
        "plt.show()"
      ],
      "metadata": {
        "id": "c6li3CmFl-RH",
        "colab": {
          "base_uri": "https://localhost:8080/",
          "height": 637
        },
        "outputId": "edde7f48-d842-4412-b4bd-6f7b966cf1ee"
      },
      "execution_count": 14,
      "outputs": [
        {
          "output_type": "display_data",
          "data": {
            "text/plain": [
              "<Figure size 1700x700 with 1 Axes>"
            ],
            "image/png": "[encoded data removed]"
          },
          "metadata": {}
        }
      ]
    },
    {
      "cell_type": "code",
      "source": [
        "# Convert outputs to class labels\n",
        "def convert_to_labels(output):\n",
        "    return np.argmax(output, axis=1)\n",
        "\n",
        "# Convert true labels to class labels\n",
        "y_train_true = convert_to_labels(y_train)\n",
        "y_val_true = convert_to_labels(y_val)\n",
        "\n",
        "# Convert final outputs to class labels\n",
        "y_train_pred = convert_to_labels(final_train_outputs)\n",
        "y_val_pred = convert_to_labels(final_val_outputs)\n",
        "\n",
        "# Calculate evaluation metrics\n",
        "train_accuracy = accuracy_score(y_train_true, y_train_pred)\n",
        "val_accuracy = accuracy_score(y_val_true, y_val_pred)\n",
        "\n",
        "train_precision = precision_score(y_train_true, y_train_pred, average='macro', zero_division=0)\n",
        "val_precision = precision_score(y_val_true, y_val_pred, average='macro')\n",
        "\n",
        "train_recall = recall_score(y_train_true, y_train_pred, average='macro')\n",
        "val_recall = recall_score(y_val_true, y_val_pred, average='macro')\n",
        "\n",
        "train_f1 = f1_score(y_train_true, y_train_pred, average='macro')\n",
        "val_f1 = f1_score(y_val_true, y_val_pred, average='macro')\n",
        "\n",
        "# Print or log the final metrics\n",
        "print(\"Training Accuracy:\", train_accuracy)\n",
        "print(\"Validation Accuracy:\", val_accuracy)\n",
        "print(\"Training Precision:\", train_precision)\n",
        "print(\"Validation Precision:\", val_precision)\n",
        "print(\"Training Recall:\", train_recall)\n",
        "print(\"Validation Recall:\", val_recall)\n",
        "print(\"Training F1 Score:\", train_f1)\n",
        "print(\"Validation F1 Score:\", val_f1)\n"
      ],
      "metadata": {
        "id": "GaBDr9kjmHzS",
        "colab": {
          "base_uri": "https://localhost:8080/"
        },
        "outputId": "af0c5852-bd4f-4655-911f-8f3c4334c59a"
      },
      "execution_count": 15,
      "outputs": [
        {
          "output_type": "stream",
          "name": "stdout",
          "text": [
            "Training Accuracy: 0.88675\n",
            "Validation Accuracy: 0.88\n",
            "Training Precision: 0.8868473218038166\n",
            "Validation Precision: 0.8824687209712219\n",
            "Training Recall: 0.8867063967180935\n",
            "Validation Recall: 0.8795545557988215\n",
            "Training F1 Score: 0.886616761244834\n",
            "Validation F1 Score: 0.8805073447025304\n"
          ]
        }
      ]
    }
  ]
}